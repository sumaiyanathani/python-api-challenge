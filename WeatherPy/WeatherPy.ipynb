{
 "cells": [
  {
   "cell_type": "markdown",
   "metadata": {},
   "source": [
    "# WeatherPy\n",
    "\n",
    "---\n",
    "\n",
    "## Starter Code to Generate Random Geographic Coordinates and a List of Cities"
   ]
  },
  {
   "cell_type": "code",
   "execution_count": 16,
   "metadata": {
    "scrolled": true
   },
   "outputs": [],
   "source": [
    "# Dependencies and Setup\n",
    "import matplotlib.pyplot as plt\n",
    "import pandas as pd\n",
    "import numpy as np\n",
    "import requests\n",
    "import time\n",
    "from scipy.stats import linregress\n",
    "\n",
    "# Impor the OpenWeatherMap API key\n",
    "from api_keys import weather_api_key\n",
    "\n",
    "# Import citipy to determine the cities based on latitude and longitude\n",
    "from citipy import citipy"
   ]
  },
  {
   "cell_type": "markdown",
   "metadata": {},
   "source": [
    "### Generate the Cities List by Using the `citipy` Library"
   ]
  },
  {
   "cell_type": "code",
   "execution_count": 81,
   "metadata": {},
   "outputs": [
    {
     "name": "stdout",
     "output_type": "stream",
     "text": [
      "Number of cities in the list: 623\n"
     ]
    }
   ],
   "source": [
    "# Empty list for holding the latitude and longitude combinations\n",
    "lat_lngs = []\n",
    "\n",
    "# Empty list for holding the cities names\n",
    "cities = []\n",
    "\n",
    "# Range of latitudes and longitudes\n",
    "lat_range = (-90, 90)\n",
    "lng_range = (-180, 180)\n",
    "\n",
    "# Create a set of random lat and lng combinations\n",
    "lats = np.random.uniform(lat_range[0], lat_range[1], size=1500)\n",
    "lngs = np.random.uniform(lng_range[0], lng_range[1], size=1500)\n",
    "lat_lngs = zip(lats, lngs)\n",
    "\n",
    "# Identify nearest city for each lat, lng combination\n",
    "for lat_lng in lat_lngs:\n",
    "    city = citipy.nearest_city(lat_lng[0], lat_lng[1]).city_name\n",
    "    \n",
    "    # If the city is unique, then add it to a our cities list\n",
    "    if city not in cities:\n",
    "        cities.append(city)\n",
    "\n",
    "# Print the city count to confirm sufficient count\n",
    "print(f\"Number of cities in the list: {len(cities)}\")"
   ]
  },
  {
   "cell_type": "markdown",
   "metadata": {},
   "source": [
    "---"
   ]
  },
  {
   "cell_type": "markdown",
   "metadata": {},
   "source": [
    "## Requirement 1: Create Plots to Showcase the Relationship Between Weather Variables and Latitude\n",
    "\n",
    "### Use the OpenWeatherMap API to retrieve weather data from the cities list generated in the started code"
   ]
  },
  {
   "cell_type": "code",
   "execution_count": 82,
   "metadata": {},
   "outputs": [
    {
     "name": "stdout",
     "output_type": "stream",
     "text": [
      "Beginning Data Retrieval     \n",
      "-----------------------------\n",
      "Processing Record 1 of Set 1 | tocopilla\n",
      "Processing Record 2 of Set 1 | belushya guba\n",
      "City not found. Skipping...\n",
      "Processing Record 3 of Set 1 | namatanai\n",
      "Processing Record 4 of Set 1 | upernavik\n",
      "Processing Record 5 of Set 1 | punta arenas\n",
      "Processing Record 6 of Set 1 | xingcheng\n",
      "Processing Record 7 of Set 1 | harnosand\n",
      "Processing Record 8 of Set 1 | hlotse\n",
      "Processing Record 9 of Set 1 | nakamura\n",
      "Processing Record 10 of Set 1 | kapaa\n",
      "Processing Record 11 of Set 1 | palmer\n",
      "Processing Record 12 of Set 1 | puerto ayora\n",
      "Processing Record 13 of Set 1 | yellowknife\n",
      "Processing Record 14 of Set 1 | sibolga\n",
      "Processing Record 15 of Set 1 | tautira\n",
      "Processing Record 16 of Set 1 | kailua\n",
      "Processing Record 17 of Set 1 | kodiak\n",
      "Processing Record 18 of Set 1 | rikitea\n",
      "Processing Record 19 of Set 1 | dingle\n",
      "Processing Record 20 of Set 1 | gravdal\n",
      "Processing Record 21 of Set 1 | vaini\n",
      "Processing Record 22 of Set 1 | attawapiskat\n",
      "City not found. Skipping...\n",
      "Processing Record 23 of Set 1 | puerto escondido\n",
      "Processing Record 24 of Set 1 | cabo san lucas\n",
      "Processing Record 25 of Set 1 | ushuaia\n",
      "Processing Record 26 of Set 1 | arraial do cabo\n",
      "Processing Record 27 of Set 1 | cape town\n",
      "Processing Record 28 of Set 1 | lyngseidet\n",
      "Processing Record 29 of Set 1 | barrow\n",
      "Processing Record 30 of Set 1 | hamilton\n",
      "Processing Record 31 of Set 1 | saint-philippe\n",
      "Processing Record 32 of Set 1 | mitu\n",
      "Processing Record 33 of Set 1 | khani\n",
      "Processing Record 34 of Set 1 | verkhniy tagil\n",
      "Processing Record 35 of Set 1 | tiksi\n",
      "Processing Record 36 of Set 1 | salalah\n",
      "Processing Record 37 of Set 1 | carballo\n",
      "Processing Record 38 of Set 1 | road town\n",
      "Processing Record 39 of Set 1 | busselton\n",
      "Processing Record 40 of Set 1 | albanel\n",
      "Processing Record 41 of Set 1 | hobart\n",
      "Processing Record 42 of Set 1 | aliwal north\n",
      "Processing Record 43 of Set 1 | cidreira\n",
      "Processing Record 44 of Set 1 | daru\n",
      "Processing Record 45 of Set 1 | baijiantan\n",
      "Processing Record 46 of Set 1 | tsihombe\n",
      "City not found. Skipping...\n",
      "Processing Record 47 of Set 1 | korla\n",
      "Processing Record 48 of Set 1 | baherden\n",
      "Processing Record 49 of Set 1 | san carlos del zulia\n",
      "Processing Record 50 of Set 1 | mataura\n",
      "Processing Record 0 of Set 2 | havre-saint-pierre\n",
      "Processing Record 1 of Set 2 | castro\n",
      "Processing Record 2 of Set 2 | oranjestad\n",
      "Processing Record 3 of Set 2 | jamestown\n",
      "Processing Record 4 of Set 2 | purpe\n",
      "Processing Record 5 of Set 2 | muscat\n",
      "Processing Record 6 of Set 2 | sitka\n",
      "Processing Record 7 of Set 2 | nikolskoye\n",
      "Processing Record 8 of Set 2 | tuktoyaktuk\n",
      "Processing Record 9 of Set 2 | tasiilaq\n",
      "Processing Record 10 of Set 2 | atuona\n",
      "Processing Record 11 of Set 2 | terme\n",
      "Processing Record 12 of Set 2 | illoqqortoormiut\n",
      "City not found. Skipping...\n",
      "Processing Record 13 of Set 2 | lorengau\n",
      "Processing Record 14 of Set 2 | colesberg\n",
      "Processing Record 15 of Set 2 | provideniya\n",
      "Processing Record 16 of Set 2 | vila franca do campo\n",
      "Processing Record 17 of Set 2 | hithadhoo\n",
      "Processing Record 18 of Set 2 | vagur\n",
      "Processing Record 19 of Set 2 | meyungs\n",
      "City not found. Skipping...\n",
      "Processing Record 20 of Set 2 | hilo\n",
      "Processing Record 21 of Set 2 | severo-kurilsk\n",
      "Processing Record 22 of Set 2 | bengkulu\n",
      "Processing Record 23 of Set 2 | anadyr\n",
      "Processing Record 24 of Set 2 | sentyabrskiy\n",
      "City not found. Skipping...\n",
      "Processing Record 25 of Set 2 | isla vista\n",
      "Processing Record 26 of Set 2 | albany\n",
      "Processing Record 27 of Set 2 | mizan teferi\n",
      "Processing Record 28 of Set 2 | mendahara\n",
      "City not found. Skipping...\n",
      "Processing Record 29 of Set 2 | yumen\n",
      "Processing Record 30 of Set 2 | gurupa\n",
      "Processing Record 31 of Set 2 | butaritari\n",
      "Processing Record 32 of Set 2 | mrirt\n",
      "City not found. Skipping...\n",
      "Processing Record 33 of Set 2 | cabedelo\n",
      "Processing Record 34 of Set 2 | vardo\n",
      "Processing Record 35 of Set 2 | ilinskiy\n",
      "Processing Record 36 of Set 2 | takoradi\n",
      "Processing Record 37 of Set 2 | mafra\n",
      "Processing Record 38 of Set 2 | aklavik\n",
      "Processing Record 39 of Set 2 | kostomuksha\n",
      "Processing Record 40 of Set 2 | kramat\n",
      "Processing Record 41 of Set 2 | ambon\n",
      "Processing Record 42 of Set 2 | odweyne\n",
      "Processing Record 43 of Set 2 | sambava\n",
      "Processing Record 44 of Set 2 | los llanos de aridane\n",
      "Processing Record 45 of Set 2 | honningsvag\n",
      "Processing Record 46 of Set 2 | bluff\n",
      "Processing Record 47 of Set 2 | bredasdorp\n",
      "Processing Record 48 of Set 2 | woodward\n",
      "Processing Record 49 of Set 2 | tuy hoa\n",
      "Processing Record 0 of Set 3 | hermanus\n",
      "Processing Record 1 of Set 3 | anloga\n",
      "Processing Record 2 of Set 3 | carutapera\n",
      "Processing Record 3 of Set 3 | carnarvon\n",
      "Processing Record 4 of Set 3 | kirakira\n",
      "Processing Record 5 of Set 3 | kafue\n",
      "Processing Record 6 of Set 3 | nanortalik\n",
      "Processing Record 7 of Set 3 | qaanaaq\n",
      "Processing Record 8 of Set 3 | taolanaro\n",
      "City not found. Skipping...\n",
      "Processing Record 9 of Set 3 | aginskoye\n",
      "Processing Record 10 of Set 3 | tingo maria\n",
      "Processing Record 11 of Set 3 | cockburn town\n",
      "Processing Record 12 of Set 3 | grand river south east\n",
      "City not found. Skipping...\n",
      "Processing Record 13 of Set 3 | khatanga\n",
      "Processing Record 14 of Set 3 | cayenne\n",
      "Processing Record 15 of Set 3 | ponta do sol\n",
      "Processing Record 16 of Set 3 | kamenskoye\n",
      "City not found. Skipping...\n",
      "Processing Record 17 of Set 3 | georgetown\n",
      "Processing Record 18 of Set 3 | puerto carreno\n",
      "Processing Record 19 of Set 3 | port elizabeth\n",
      "Processing Record 20 of Set 3 | mar del plata\n",
      "Processing Record 21 of Set 3 | thompson\n",
      "Processing Record 22 of Set 3 | morgan city\n",
      "Processing Record 23 of Set 3 | hobyo\n",
      "Processing Record 24 of Set 3 | souillac\n",
      "Processing Record 25 of Set 3 | northam\n",
      "Processing Record 26 of Set 3 | grindavik\n",
      "Processing Record 27 of Set 3 | palabuhanratu\n",
      "City not found. Skipping...\n",
      "Processing Record 28 of Set 3 | new norfolk\n",
      "Processing Record 29 of Set 3 | luderitz\n",
      "Processing Record 30 of Set 3 | sao joao da barra\n",
      "Processing Record 31 of Set 3 | sataua\n",
      "City not found. Skipping...\n",
      "Processing Record 32 of Set 3 | ahuimanu\n",
      "Processing Record 33 of Set 3 | saskylakh\n",
      "Processing Record 34 of Set 3 | jalu\n",
      "Processing Record 35 of Set 3 | najran\n",
      "Processing Record 36 of Set 3 | vila velha\n",
      "Processing Record 37 of Set 3 | umzimvubu\n",
      "City not found. Skipping...\n",
      "Processing Record 38 of Set 3 | college\n",
      "Processing Record 39 of Set 3 | solnechnyy\n",
      "Processing Record 40 of Set 3 | yangjiang\n",
      "Processing Record 41 of Set 3 | akyab\n",
      "Processing Record 42 of Set 3 | saleaula\n",
      "City not found. Skipping...\n",
      "Processing Record 43 of Set 3 | broome\n",
      "Processing Record 44 of Set 3 | meiktila\n",
      "Processing Record 45 of Set 3 | brufut\n",
      "Processing Record 46 of Set 3 | dar es salaam\n",
      "Processing Record 47 of Set 3 | guekedou\n",
      "City not found. Skipping...\n",
      "Processing Record 48 of Set 3 | itacare\n",
      "Processing Record 49 of Set 3 | maldonado\n",
      "Processing Record 0 of Set 4 | port alfred\n",
      "Processing Record 1 of Set 4 | isangel\n",
      "Processing Record 2 of Set 4 | acapulco\n",
      "Processing Record 3 of Set 4 | ereymentau\n",
      "Processing Record 4 of Set 4 | norman wells\n",
      "Processing Record 5 of Set 4 | sampang\n",
      "Processing Record 6 of Set 4 | bathsheba\n",
      "Processing Record 7 of Set 4 | dinghai\n",
      "Processing Record 8 of Set 4 | sakaiminato\n",
      "Processing Record 9 of Set 4 | saint george\n",
      "Processing Record 10 of Set 4 | klaksvik\n",
      "Processing Record 11 of Set 4 | rock sound\n",
      "Processing Record 12 of Set 4 | sao filipe\n",
      "Processing Record 13 of Set 4 | yulara\n",
      "Processing Record 14 of Set 4 | ribeira grande\n",
      "Processing Record 15 of Set 4 | independence\n",
      "Processing Record 16 of Set 4 | hofn\n",
      "Processing Record 17 of Set 4 | adrar\n",
      "Processing Record 18 of Set 4 | varnsdorf\n",
      "Processing Record 19 of Set 4 | bulungu\n",
      "Processing Record 20 of Set 4 | amderma\n",
      "City not found. Skipping...\n",
      "Processing Record 21 of Set 4 | longyearbyen\n",
      "Processing Record 22 of Set 4 | guerrero negro\n",
      "Processing Record 23 of Set 4 | nome\n",
      "Processing Record 24 of Set 4 | quesnel\n",
      "Processing Record 25 of Set 4 | malindi\n",
      "Processing Record 26 of Set 4 | vero beach\n",
      "Processing Record 27 of Set 4 | abaete\n",
      "Processing Record 28 of Set 4 | antigonish\n",
      "Processing Record 29 of Set 4 | bethel\n",
      "Processing Record 30 of Set 4 | lagoa\n",
      "Processing Record 31 of Set 4 | clyde river\n",
      "Processing Record 32 of Set 4 | visby\n",
      "Processing Record 33 of Set 4 | tabiauea\n",
      "City not found. Skipping...\n",
      "Processing Record 34 of Set 4 | marcona\n",
      "City not found. Skipping...\n",
      "Processing Record 35 of Set 4 | hambantota\n",
      "Processing Record 36 of Set 4 | lebu\n",
      "Processing Record 37 of Set 4 | altay\n",
      "Processing Record 38 of Set 4 | ixtapa\n",
      "Processing Record 39 of Set 4 | kintampo\n",
      "Processing Record 40 of Set 4 | saint-augustin\n",
      "Processing Record 41 of Set 4 | codrington\n",
      "Processing Record 42 of Set 4 | bambous virieux\n",
      "Processing Record 43 of Set 4 | broken hill\n",
      "Processing Record 44 of Set 4 | pozo colorado\n",
      "Processing Record 45 of Set 4 | ouahigouya\n",
      "Processing Record 46 of Set 4 | turayf\n",
      "Processing Record 47 of Set 4 | kazalinsk\n",
      "City not found. Skipping...\n",
      "Processing Record 48 of Set 4 | santa ines\n",
      "Processing Record 49 of Set 4 | pochutla\n",
      "Processing Record 0 of Set 5 | bansang\n",
      "Processing Record 1 of Set 5 | nizhneyansk\n",
      "City not found. Skipping...\n",
      "Processing Record 2 of Set 5 | chiredzi\n",
      "Processing Record 3 of Set 5 | nouadhibou\n",
      "Processing Record 4 of Set 5 | tiarei\n",
      "Processing Record 5 of Set 5 | trairi\n",
      "Processing Record 6 of Set 5 | puerto guzman\n",
      "Processing Record 7 of Set 5 | adre\n",
      "Processing Record 8 of Set 5 | basoko\n",
      "Processing Record 9 of Set 5 | faya\n",
      "Processing Record 10 of Set 5 | iquique\n",
      "Processing Record 11 of Set 5 | meulaboh\n",
      "Processing Record 12 of Set 5 | laguna\n",
      "Processing Record 13 of Set 5 | narsaq\n",
      "Processing Record 14 of Set 5 | westlock\n",
      "Processing Record 15 of Set 5 | east london\n",
      "Processing Record 16 of Set 5 | ilo\n",
      "Processing Record 17 of Set 5 | gweta\n",
      "Processing Record 18 of Set 5 | police\n",
      "Processing Record 19 of Set 5 | dimona\n",
      "Processing Record 20 of Set 5 | saldanha\n",
      "Processing Record 21 of Set 5 | airai\n",
      "Processing Record 22 of Set 5 | port hedland\n",
      "Processing Record 23 of Set 5 | bukachacha\n",
      "Processing Record 24 of Set 5 | fortuna\n",
      "Processing Record 25 of Set 5 | prince rupert\n",
      "Processing Record 26 of Set 5 | lillooet\n",
      "Processing Record 27 of Set 5 | kyren\n",
      "Processing Record 28 of Set 5 | shonguy\n",
      "Processing Record 29 of Set 5 | khasan\n",
      "Processing Record 30 of Set 5 | rantauprapat\n",
      "Processing Record 31 of Set 5 | cherskiy\n",
      "Processing Record 32 of Set 5 | mirabad\n",
      "Processing Record 33 of Set 5 | doha\n",
      "Processing Record 34 of Set 5 | amapa\n",
      "Processing Record 35 of Set 5 | knyaze-volkonskoye\n",
      "Processing Record 36 of Set 5 | ivankiv\n",
      "Processing Record 37 of Set 5 | sao geraldo do araguaia\n",
      "Processing Record 38 of Set 5 | rocha\n",
      "Processing Record 39 of Set 5 | berdigestyakh\n",
      "Processing Record 40 of Set 5 | avarua\n",
      "Processing Record 41 of Set 5 | ugoofaaru\n",
      "Processing Record 42 of Set 5 | arman\n",
      "Processing Record 43 of Set 5 | inderborskiy\n",
      "City not found. Skipping...\n",
      "Processing Record 44 of Set 5 | mundgod\n",
      "Processing Record 45 of Set 5 | torbay\n",
      "Processing Record 46 of Set 5 | miracema do tocantins\n",
      "Processing Record 47 of Set 5 | port-cartier\n",
      "Processing Record 48 of Set 5 | asayita\n",
      "City not found. Skipping...\n",
      "Processing Record 49 of Set 5 | lompoc\n",
      "Processing Record 0 of Set 6 | saint-leu\n",
      "Processing Record 1 of Set 6 | tual\n",
      "Processing Record 2 of Set 6 | mehamn\n",
      "Processing Record 3 of Set 6 | owando\n",
      "Processing Record 4 of Set 6 | katangli\n",
      "Processing Record 5 of Set 6 | mahebourg\n",
      "Processing Record 6 of Set 6 | dikson\n",
      "Processing Record 7 of Set 6 | shahpur\n",
      "Processing Record 8 of Set 6 | faanui\n",
      "Processing Record 9 of Set 6 | miri\n",
      "Processing Record 10 of Set 6 | filadelfia\n",
      "Processing Record 11 of Set 6 | nhulunbuy\n",
      "Processing Record 12 of Set 6 | barentsburg\n",
      "City not found. Skipping...\n",
      "Processing Record 13 of Set 6 | copiapo\n",
      "Processing Record 14 of Set 6 | lafia\n",
      "Processing Record 15 of Set 6 | kahului\n",
      "Processing Record 16 of Set 6 | victoria\n",
      "Processing Record 17 of Set 6 | normandin\n",
      "Processing Record 18 of Set 6 | tatawin\n",
      "Processing Record 19 of Set 6 | bitlis\n",
      "Processing Record 20 of Set 6 | hervey bay\n",
      "Processing Record 21 of Set 6 | kamphaeng phet\n",
      "Processing Record 22 of Set 6 | mys shmidta\n",
      "City not found. Skipping...\n",
      "Processing Record 23 of Set 6 | awbari\n",
      "Processing Record 24 of Set 6 | vaitape\n",
      "Processing Record 25 of Set 6 | corinth\n",
      "Processing Record 26 of Set 6 | niort\n",
      "Processing Record 27 of Set 6 | torres\n",
      "Processing Record 28 of Set 6 | honiara\n",
      "Processing Record 29 of Set 6 | benicarlo\n",
      "Processing Record 30 of Set 6 | ostrovnoy\n",
      "Processing Record 31 of Set 6 | alta floresta\n",
      "Processing Record 32 of Set 6 | berlevag\n",
      "Processing Record 33 of Set 6 | caravelas\n",
      "Processing Record 34 of Set 6 | urusha\n",
      "Processing Record 35 of Set 6 | chuy\n",
      "Processing Record 36 of Set 6 | katsuura\n",
      "Processing Record 37 of Set 6 | galesong\n",
      "Processing Record 38 of Set 6 | vestmannaeyjar\n",
      "Processing Record 39 of Set 6 | wladyslawowo\n",
      "Processing Record 40 of Set 6 | sayyan\n",
      "Processing Record 41 of Set 6 | shetpe\n",
      "Processing Record 42 of Set 6 | kuche\n",
      "City not found. Skipping...\n",
      "Processing Record 43 of Set 6 | vaitupu\n",
      "City not found. Skipping...\n",
      "Processing Record 44 of Set 6 | sinnamary\n",
      "Processing Record 45 of Set 6 | dicabisagan\n",
      "Processing Record 46 of Set 6 | saint-georges\n",
      "Processing Record 47 of Set 6 | sorkjosen\n",
      "Processing Record 48 of Set 6 | ust-kuyga\n",
      "Processing Record 49 of Set 6 | kavieng\n",
      "Processing Record 0 of Set 7 | guajara\n",
      "Processing Record 1 of Set 7 | chara\n",
      "Processing Record 2 of Set 7 | la tuque\n",
      "Processing Record 3 of Set 7 | mocambique\n",
      "City not found. Skipping...\n",
      "Processing Record 4 of Set 7 | mpongwe\n",
      "Processing Record 5 of Set 7 | talnakh\n",
      "Processing Record 6 of Set 7 | olinda\n",
      "Processing Record 7 of Set 7 | taksimo\n",
      "Processing Record 8 of Set 7 | muli\n",
      "Processing Record 9 of Set 7 | hihifo\n",
      "City not found. Skipping...\n",
      "Processing Record 10 of Set 7 | qom\n",
      "Processing Record 11 of Set 7 | mankapur\n",
      "Processing Record 12 of Set 7 | saldus\n",
      "Processing Record 13 of Set 7 | chokurdakh\n",
      "Processing Record 14 of Set 7 | hasaki\n",
      "Processing Record 15 of Set 7 | aykhal\n",
      "Processing Record 16 of Set 7 | beyneu\n",
      "Processing Record 17 of Set 7 | kendal\n",
      "Processing Record 18 of Set 7 | udachnyy\n",
      "Processing Record 19 of Set 7 | moissala\n",
      "Processing Record 20 of Set 7 | baykalsk\n",
      "Processing Record 21 of Set 7 | xining\n",
      "Processing Record 22 of Set 7 | quatre cocos\n",
      "Processing Record 23 of Set 7 | bandarbeyla\n",
      "Processing Record 24 of Set 7 | batticaloa\n",
      "Processing Record 25 of Set 7 | bolungarvik\n",
      "City not found. Skipping...\n",
      "Processing Record 26 of Set 7 | vylkove\n",
      "Processing Record 27 of Set 7 | gamba\n",
      "Processing Record 28 of Set 7 | coihaique\n",
      "Processing Record 29 of Set 7 | port-gentil\n",
      "Processing Record 30 of Set 7 | cheltenham\n",
      "Processing Record 31 of Set 7 | logan\n",
      "Processing Record 32 of Set 7 | santiago del estero\n",
      "Processing Record 33 of Set 7 | dunedin\n",
      "Processing Record 34 of Set 7 | pangnirtung\n",
      "Processing Record 35 of Set 7 | fiche\n",
      "Processing Record 36 of Set 7 | poum\n",
      "Processing Record 37 of Set 7 | basna\n",
      "Processing Record 38 of Set 7 | libreville\n",
      "Processing Record 39 of Set 7 | minab\n",
      "Processing Record 40 of Set 7 | panaba\n",
      "Processing Record 41 of Set 7 | erenhot\n",
      "Processing Record 42 of Set 7 | jati\n",
      "Processing Record 43 of Set 7 | kalmunai\n",
      "Processing Record 44 of Set 7 | parana\n",
      "Processing Record 45 of Set 7 | bilma\n",
      "Processing Record 46 of Set 7 | lishui\n",
      "Processing Record 47 of Set 7 | hualmay\n",
      "Processing Record 48 of Set 7 | chaochou\n",
      "City not found. Skipping...\n",
      "Processing Record 49 of Set 7 | rudnogorsk\n",
      "Processing Record 0 of Set 8 | chingola\n",
      "Processing Record 1 of Set 8 | suntar\n",
      "Processing Record 2 of Set 8 | batagay-alyta\n",
      "Processing Record 3 of Set 8 | alice town\n",
      "Processing Record 4 of Set 8 | harper\n",
      "Processing Record 5 of Set 8 | mersing\n",
      "Processing Record 6 of Set 8 | san andres\n",
      "Processing Record 7 of Set 8 | shahr-e babak\n",
      "Processing Record 8 of Set 8 | santa cruz\n",
      "Processing Record 9 of Set 8 | bubaque\n",
      "Processing Record 10 of Set 8 | wielun\n",
      "Processing Record 11 of Set 8 | svetlyy\n",
      "Processing Record 12 of Set 8 | shurugwi\n",
      "Processing Record 13 of Set 8 | esperance\n",
      "Processing Record 14 of Set 8 | itarema\n",
      "Processing Record 15 of Set 8 | menomonie\n",
      "Processing Record 16 of Set 8 | kargil\n",
      "Processing Record 17 of Set 8 | gazojak\n",
      "Processing Record 18 of Set 8 | narasannapeta\n",
      "Processing Record 19 of Set 8 | ijaki\n",
      "City not found. Skipping...\n",
      "Processing Record 20 of Set 8 | owensboro\n",
      "Processing Record 21 of Set 8 | kulykivka\n",
      "Processing Record 22 of Set 8 | mungwi\n",
      "Processing Record 23 of Set 8 | atikokan\n",
      "Processing Record 24 of Set 8 | alyangula\n",
      "Processing Record 25 of Set 8 | riyadh\n",
      "Processing Record 26 of Set 8 | grand gaube\n",
      "Processing Record 27 of Set 8 | ilulissat\n",
      "Processing Record 28 of Set 8 | finschhafen\n",
      "Processing Record 29 of Set 8 | cap estate\n",
      "Processing Record 30 of Set 8 | camden\n",
      "Processing Record 31 of Set 8 | barcelona\n",
      "Processing Record 32 of Set 8 | hit\n",
      "Processing Record 33 of Set 8 | altamira\n",
      "Processing Record 34 of Set 8 | chippewa falls\n",
      "Processing Record 35 of Set 8 | shimoda\n",
      "Processing Record 36 of Set 8 | paramonga\n",
      "Processing Record 37 of Set 8 | henties bay\n",
      "Processing Record 38 of Set 8 | pevek\n",
      "Processing Record 39 of Set 8 | saint anthony\n",
      "Processing Record 40 of Set 8 | slave lake\n",
      "Processing Record 41 of Set 8 | vermilion\n",
      "Processing Record 42 of Set 8 | waipawa\n",
      "Processing Record 43 of Set 8 | palm coast\n",
      "Processing Record 44 of Set 8 | iqaluit\n",
      "Processing Record 45 of Set 8 | kiama\n",
      "Processing Record 46 of Set 8 | dianopolis\n",
      "City not found. Skipping...\n",
      "Processing Record 47 of Set 8 | marzuq\n",
      "Processing Record 48 of Set 8 | vilyuysk\n",
      "Processing Record 49 of Set 8 | touros\n",
      "Processing Record 0 of Set 9 | sibiti\n",
      "Processing Record 1 of Set 9 | inhambane\n",
      "Processing Record 2 of Set 9 | wanning\n",
      "Processing Record 3 of Set 9 | qaqortoq\n",
      "Processing Record 4 of Set 9 | maniitsoq\n",
      "Processing Record 5 of Set 9 | alexandria\n",
      "Processing Record 6 of Set 9 | bedesa\n",
      "Processing Record 7 of Set 9 | husavik\n",
      "Processing Record 8 of Set 9 | liverpool\n",
      "Processing Record 9 of Set 9 | hirara\n",
      "Processing Record 10 of Set 9 | chifeng\n",
      "Processing Record 11 of Set 9 | marion\n",
      "Processing Record 12 of Set 9 | de-kastri\n",
      "Processing Record 13 of Set 9 | arlit\n",
      "Processing Record 14 of Set 9 | nadvoitsy\n",
      "Processing Record 15 of Set 9 | port moresby\n",
      "Processing Record 16 of Set 9 | bacuit\n",
      "City not found. Skipping...\n",
      "Processing Record 17 of Set 9 | machacamarca\n",
      "Processing Record 18 of Set 9 | brae\n",
      "Processing Record 19 of Set 9 | araguacu\n",
      "Processing Record 20 of Set 9 | kajaani\n",
      "Processing Record 21 of Set 9 | umea\n",
      "Processing Record 22 of Set 9 | rawson\n",
      "Processing Record 23 of Set 9 | wahran\n",
      "City not found. Skipping...\n",
      "Processing Record 24 of Set 9 | great bend\n",
      "Processing Record 25 of Set 9 | bogovarovo\n",
      "Processing Record 26 of Set 9 | makakilo city\n",
      "Processing Record 27 of Set 9 | pisco\n",
      "Processing Record 28 of Set 9 | shagonar\n",
      "Processing Record 29 of Set 9 | jertih\n",
      "Processing Record 30 of Set 9 | dhidhdhoo\n",
      "Processing Record 31 of Set 9 | urumqi\n",
      "Processing Record 32 of Set 9 | ahipara\n",
      "Processing Record 33 of Set 9 | monrovia\n",
      "Processing Record 34 of Set 9 | tidore\n",
      "City not found. Skipping...\n",
      "Processing Record 35 of Set 9 | russell\n",
      "Processing Record 36 of Set 9 | pak phanang\n",
      "Processing Record 37 of Set 9 | boksitogorsk\n",
      "Processing Record 38 of Set 9 | missouri city\n",
      "Processing Record 39 of Set 9 | mizdah\n",
      "Processing Record 40 of Set 9 | alofi\n",
      "Processing Record 41 of Set 9 | rawannawi\n",
      "City not found. Skipping...\n",
      "Processing Record 42 of Set 9 | karratha\n",
      "Processing Record 43 of Set 9 | claresholm\n",
      "Processing Record 44 of Set 9 | nanning\n",
      "Processing Record 45 of Set 9 | tinaquillo\n",
      "Processing Record 46 of Set 9 | nizwa\n",
      "Processing Record 47 of Set 9 | valparaiso\n",
      "Processing Record 48 of Set 9 | uryupinsk\n",
      "Processing Record 49 of Set 9 | fayaoue\n",
      "Processing Record 0 of Set 10 | glasgow\n",
      "Processing Record 1 of Set 10 | okhotsk\n",
      "Processing Record 2 of Set 10 | kulhudhuffushi\n",
      "Processing Record 3 of Set 10 | calderitas\n",
      "Processing Record 4 of Set 10 | verkhoyansk\n",
      "Processing Record 5 of Set 10 | usinsk\n",
      "Processing Record 6 of Set 10 | nacozari\n",
      "Processing Record 7 of Set 10 | nago\n",
      "Processing Record 8 of Set 10 | prince george\n",
      "Processing Record 9 of Set 10 | ode\n",
      "Processing Record 10 of Set 10 | wahiawa\n",
      "Processing Record 11 of Set 10 | dukat\n",
      "Processing Record 12 of Set 10 | zhangjiakou\n",
      "Processing Record 13 of Set 10 | oistins\n",
      "Processing Record 14 of Set 10 | dawei\n",
      "Processing Record 15 of Set 10 | holic\n",
      "Processing Record 16 of Set 10 | tambopata\n",
      "Processing Record 17 of Set 10 | ulaangom\n",
      "Processing Record 18 of Set 10 | moussoro\n",
      "Processing Record 19 of Set 10 | kavaratti\n",
      "Processing Record 20 of Set 10 | westport\n",
      "Processing Record 21 of Set 10 | liwale\n",
      "Processing Record 22 of Set 10 | ponta delgada\n",
      "Processing Record 23 of Set 10 | cotonou\n",
      "Processing Record 24 of Set 10 | dandong\n",
      "Processing Record 25 of Set 10 | port hardy\n",
      "Processing Record 26 of Set 10 | tyumentsevo\n",
      "Processing Record 27 of Set 10 | aksarka\n",
      "Processing Record 28 of Set 10 | bobo dioulasso\n",
      "Processing Record 29 of Set 10 | lasa\n",
      "Processing Record 30 of Set 10 | krasnoyarsk-66\n",
      "City not found. Skipping...\n",
      "Processing Record 31 of Set 10 | galiwinku\n",
      "City not found. Skipping...\n",
      "Processing Record 32 of Set 10 | vilhena\n",
      "Processing Record 33 of Set 10 | san patricio\n",
      "Processing Record 34 of Set 10 | puerto rico\n",
      "Processing Record 35 of Set 10 | zhigansk\n",
      "Processing Record 36 of Set 10 | muisne\n",
      "Processing Record 37 of Set 10 | farah\n",
      "Processing Record 38 of Set 10 | greenville\n",
      "Processing Record 39 of Set 10 | cururupu\n",
      "Processing Record 40 of Set 10 | talcahuano\n",
      "Processing Record 41 of Set 10 | gigmoto\n",
      "Processing Record 42 of Set 10 | anori\n",
      "Processing Record 43 of Set 10 | kiruna\n",
      "Processing Record 44 of Set 10 | champerico\n",
      "Processing Record 45 of Set 10 | cameron park\n",
      "Processing Record 46 of Set 10 | la ronge\n",
      "Processing Record 47 of Set 10 | omboue\n",
      "Processing Record 48 of Set 10 | constitucion\n",
      "Processing Record 49 of Set 10 | myslenice\n",
      "Processing Record 0 of Set 11 | kruisfontein\n",
      "Processing Record 1 of Set 11 | san quintin\n",
      "Processing Record 2 of Set 11 | dom pedrito\n",
      "Processing Record 3 of Set 11 | jambi\n",
      "Processing Record 4 of Set 11 | san luis\n",
      "Processing Record 5 of Set 11 | mae hong son\n",
      "Processing Record 6 of Set 11 | onguday\n",
      "Processing Record 7 of Set 11 | viligili\n",
      "City not found. Skipping...\n",
      "Processing Record 8 of Set 11 | bud\n",
      "Processing Record 9 of Set 11 | elizabeth city\n",
      "Processing Record 10 of Set 11 | poroshkovo\n",
      "Processing Record 11 of Set 11 | half moon bay\n",
      "Processing Record 12 of Set 11 | pathein\n",
      "Processing Record 13 of Set 11 | talara\n",
      "Processing Record 14 of Set 11 | mordovo\n",
      "Processing Record 15 of Set 11 | campo de criptana\n",
      "Processing Record 16 of Set 11 | kracheh\n",
      "City not found. Skipping...\n",
      "Processing Record 17 of Set 11 | wanaka\n",
      "Processing Record 18 of Set 11 | namibe\n",
      "Processing Record 19 of Set 11 | sorsk\n",
      "Processing Record 20 of Set 11 | urubicha\n",
      "Processing Record 21 of Set 11 | keningau\n",
      "Processing Record 22 of Set 11 | pangkalanbuun\n",
      "Processing Record 23 of Set 11 | mount isa\n",
      "Processing Record 24 of Set 11 | erzin\n",
      "Processing Record 25 of Set 11 | chernyshevsk\n",
      "Processing Record 26 of Set 11 | porto walter\n",
      "Processing Record 27 of Set 11 | le port\n",
      "Processing Record 28 of Set 11 | nikki\n",
      "Processing Record 29 of Set 11 | gat\n",
      "Processing Record 30 of Set 11 | presidencia roque saenz pena\n",
      "Processing Record 31 of Set 11 | evensk\n",
      "Processing Record 32 of Set 11 | sasvad\n",
      "Processing Record 33 of Set 11 | portland\n",
      "Processing Record 34 of Set 11 | kodinsk\n",
      "Processing Record 35 of Set 11 | toliary\n",
      "City not found. Skipping...\n",
      "Processing Record 36 of Set 11 | tecoanapa\n",
      "Processing Record 37 of Set 11 | salym\n",
      "Processing Record 38 of Set 11 | dwarka\n",
      "Processing Record 39 of Set 11 | sumbawa\n",
      "City not found. Skipping...\n",
      "Processing Record 40 of Set 11 | ferkessedougou\n",
      "Processing Record 41 of Set 11 | zuhres\n",
      "Processing Record 42 of Set 11 | port augusta\n",
      "Processing Record 43 of Set 11 | tumannyy\n",
      "City not found. Skipping...\n",
      "Processing Record 44 of Set 11 | mareeba\n",
      "Processing Record 45 of Set 11 | darnah\n",
      "Processing Record 46 of Set 11 | praia\n",
      "Processing Record 47 of Set 11 | kudahuvadhoo\n",
      "Processing Record 48 of Set 11 | rydultowy\n",
      "Processing Record 49 of Set 11 | kaitangata\n",
      "Processing Record 0 of Set 12 | flinders\n",
      "Processing Record 1 of Set 12 | thoen\n",
      "Processing Record 2 of Set 12 | somerset\n",
      "Processing Record 3 of Set 12 | belyy yar\n",
      "Processing Record 4 of Set 12 | severnoye\n",
      "Processing Record 5 of Set 12 | norsup\n",
      "Processing Record 6 of Set 12 | qala\n",
      "Processing Record 7 of Set 12 | astana\n",
      "Processing Record 8 of Set 12 | cacu\n",
      "Processing Record 9 of Set 12 | cockburn harbour\n",
      "City not found. Skipping...\n",
      "Processing Record 10 of Set 12 | rampura\n",
      "Processing Record 11 of Set 12 | aleksandrovskoye\n",
      "Processing Record 12 of Set 12 | san vicente\n",
      "Processing Record 13 of Set 12 | sorland\n",
      "Processing Record 14 of Set 12 | bossangoa\n",
      "Processing Record 15 of Set 12 | ambanja\n",
      "Processing Record 16 of Set 12 | muros\n",
      "Processing Record 17 of Set 12 | asau\n",
      "Processing Record 18 of Set 12 | griffith\n",
      "Processing Record 19 of Set 12 | careiro da varzea\n",
      "Processing Record 20 of Set 12 | two rivers\n",
      "Processing Record 21 of Set 12 | drayton valley\n",
      "Processing Record 22 of Set 12 | coronado\n",
      "Processing Record 23 of Set 12 | gusau\n",
      "Processing Record 24 of Set 12 | bani walid\n",
      "Processing Record 25 of Set 12 | clinton\n",
      "Processing Record 26 of Set 12 | kohima\n",
      "Processing Record 27 of Set 12 | dubna\n",
      "Processing Record 28 of Set 12 | isiro\n",
      "Processing Record 29 of Set 12 | rio gallegos\n",
      "Processing Record 30 of Set 12 | loei\n",
      "Processing Record 31 of Set 12 | aswan\n",
      "Processing Record 32 of Set 12 | turka\n",
      "Processing Record 33 of Set 12 | melita\n",
      "Processing Record 34 of Set 12 | marawi\n",
      "Processing Record 35 of Set 12 | kitcharao\n",
      "Processing Record 36 of Set 12 | rio grande\n",
      "Processing Record 37 of Set 12 | carbondale\n",
      "Processing Record 38 of Set 12 | antofagasta\n",
      "Processing Record 39 of Set 12 | karmana\n",
      "City not found. Skipping...\n",
      "Processing Record 40 of Set 12 | eureka\n",
      "Processing Record 41 of Set 12 | tres lagoas\n",
      "Processing Record 42 of Set 12 | aripuana\n",
      "Processing Record 43 of Set 12 | mount holly\n",
      "Processing Record 44 of Set 12 | auki\n",
      "Processing Record 45 of Set 12 | tomatlan\n",
      "Processing Record 46 of Set 12 | ossora\n",
      "Processing Record 47 of Set 12 | gunjur\n",
      "Processing Record 48 of Set 12 | lebanon\n",
      "Processing Record 49 of Set 12 | padang\n",
      "Processing Record 0 of Set 13 | kazachinskoye\n",
      "Processing Record 1 of Set 13 | khorinsk\n",
      "Processing Record 2 of Set 13 | itupeva\n",
      "Processing Record 3 of Set 13 | warqla\n",
      "City not found. Skipping...\n",
      "Processing Record 4 of Set 13 | kandrian\n",
      "Processing Record 5 of Set 13 | brazzaville\n",
      "Processing Record 6 of Set 13 | fare\n",
      "Processing Record 7 of Set 13 | khromtau\n",
      "Processing Record 8 of Set 13 | andenes\n",
      "Processing Record 9 of Set 13 | egvekinot\n",
      "Processing Record 10 of Set 13 | samarai\n",
      "Processing Record 11 of Set 13 | sao felix do xingu\n",
      "Processing Record 12 of Set 13 | deputatskiy\n",
      "Processing Record 13 of Set 13 | alamosa\n",
      "Processing Record 14 of Set 13 | dombarovskiy\n",
      "Processing Record 15 of Set 13 | huazolotitlan\n",
      "City not found. Skipping...\n",
      "Processing Record 16 of Set 13 | dunabogdany\n",
      "Processing Record 17 of Set 13 | mount gambier\n",
      "Processing Record 18 of Set 13 | vengerovo\n",
      "Processing Record 19 of Set 13 | morondava\n",
      "Processing Record 20 of Set 13 | cassilandia\n",
      "Processing Record 21 of Set 13 | babaeski\n",
      "Processing Record 22 of Set 13 | velyka mykhaylivka\n",
      "-----------------------------\n",
      "Data Retrieval Complete      \n",
      "-----------------------------\n"
     ]
    }
   ],
   "source": [
    "# Set the API base URL\n",
    "url = \"http://api.openweathermap.org/data/2.5/weather?\"\n",
    "\n",
    "# Define an empty list to fetch the weather data for each city\n",
    "city_data = []\n",
    "\n",
    "# Print to logger\n",
    "print(\"Beginning Data Retrieval     \")\n",
    "print(\"-----------------------------\")\n",
    "\n",
    "# Create counters\n",
    "record_count = 1\n",
    "set_count = 1\n",
    "\n",
    "# Loop through all the cities in our list to fetch weather data\n",
    "for i, city in enumerate(cities):\n",
    "        \n",
    "    # Group cities in sets of 50 for logging purposes\n",
    "    if (i % 50 == 0 and i >= 50):\n",
    "        set_count += 1\n",
    "        record_count = 0\n",
    "\n",
    "    # Create endpoint URL with each city\n",
    "    city_url = f\"{url}appid={weather_api_key}&q={city}&units=metric\"\n",
    "    \n",
    "    # Log the url, record, and set numbers\n",
    "    print(\"Processing Record %s of Set %s | %s\" % (record_count, set_count, city))\n",
    "\n",
    "    # Add 1 to the record count\n",
    "    record_count += 1\n",
    "\n",
    "    # Run an API request for each of the cities\n",
    "    try:\n",
    "        # Parse the JSON and retrieve data\n",
    "        city_weather = requests.get(city_url).json()\n",
    "\n",
    "        # Parse out latitude, longitude, max temp, humidity, cloudiness, wind speed, country, and date\n",
    "        city_lat = city_weather[\"coord\"][\"lat\"]\n",
    "        city_lng = city_weather[\"coord\"][\"lon\"]\n",
    "        city_max_temp = city_weather[\"main\"][\"temp_max\"]\n",
    "        city_humidity = city_weather[\"main\"][\"humidity\"]\n",
    "        city_clouds = city_weather[\"clouds\"][\"all\"]\n",
    "        city_wind = city_weather[\"wind\"][\"speed\"]\n",
    "        city_country = city_weather[\"sys\"][\"country\"]\n",
    "        city_date = city_weather[\"dt\"]\n",
    "\n",
    "        # Append the City information into city_data list\n",
    "        city_data.append({\"City\": city, \n",
    "                          \"Lat\": city_lat, \n",
    "                          \"Lng\": city_lng, \n",
    "                          \"Max Temp\": city_max_temp,\n",
    "                          \"Humidity\": city_humidity,\n",
    "                          \"Cloudiness\": city_clouds,\n",
    "                          \"Wind Speed\": city_wind,\n",
    "                          \"Country\": city_country,\n",
    "                          \"Date\": city_date})\n",
    "\n",
    "    # If an error is experienced, skip the city\n",
    "    except:\n",
    "        print(\"City not found. Skipping...\")\n",
    "        pass\n",
    "              \n",
    "# Indicate that Data Loading is complete \n",
    "print(\"-----------------------------\")\n",
    "print(\"Data Retrieval Complete      \")\n",
    "print(\"-----------------------------\")"
   ]
  },
  {
   "cell_type": "code",
   "execution_count": 83,
   "metadata": {},
   "outputs": [
    {
     "data": {
      "text/plain": [
       "City          575\n",
       "Lat           575\n",
       "Lng           575\n",
       "Max Temp      575\n",
       "Humidity      575\n",
       "Cloudiness    575\n",
       "Wind Speed    575\n",
       "Country       575\n",
       "Date          575\n",
       "dtype: int64"
      ]
     },
     "execution_count": 83,
     "metadata": {},
     "output_type": "execute_result"
    }
   ],
   "source": [
    "# Convert the cities weather data into a Pandas DataFrame\n",
    "city_data_df = pd.DataFrame(city_data)\n",
    "\n",
    "# Show Record Count\n",
    "city_data_df.count()"
   ]
  },
  {
   "cell_type": "code",
   "execution_count": 84,
   "metadata": {},
   "outputs": [
    {
     "data": {
      "text/html": [
       "<div>\n",
       "<style scoped>\n",
       "    .dataframe tbody tr th:only-of-type {\n",
       "        vertical-align: middle;\n",
       "    }\n",
       "\n",
       "    .dataframe tbody tr th {\n",
       "        vertical-align: top;\n",
       "    }\n",
       "\n",
       "    .dataframe thead th {\n",
       "        text-align: right;\n",
       "    }\n",
       "</style>\n",
       "<table border=\"1\" class=\"dataframe\">\n",
       "  <thead>\n",
       "    <tr style=\"text-align: right;\">\n",
       "      <th></th>\n",
       "      <th>City</th>\n",
       "      <th>Lat</th>\n",
       "      <th>Lng</th>\n",
       "      <th>Max Temp</th>\n",
       "      <th>Humidity</th>\n",
       "      <th>Cloudiness</th>\n",
       "      <th>Wind Speed</th>\n",
       "      <th>Country</th>\n",
       "      <th>Date</th>\n",
       "    </tr>\n",
       "  </thead>\n",
       "  <tbody>\n",
       "    <tr>\n",
       "      <th>0</th>\n",
       "      <td>tocopilla</td>\n",
       "      <td>-22.0920</td>\n",
       "      <td>-70.1979</td>\n",
       "      <td>23.02</td>\n",
       "      <td>77</td>\n",
       "      <td>29</td>\n",
       "      <td>0.96</td>\n",
       "      <td>CL</td>\n",
       "      <td>1675567152</td>\n",
       "    </tr>\n",
       "    <tr>\n",
       "      <th>1</th>\n",
       "      <td>namatanai</td>\n",
       "      <td>-3.6667</td>\n",
       "      <td>152.4333</td>\n",
       "      <td>28.69</td>\n",
       "      <td>72</td>\n",
       "      <td>86</td>\n",
       "      <td>1.86</td>\n",
       "      <td>PG</td>\n",
       "      <td>1675567240</td>\n",
       "    </tr>\n",
       "    <tr>\n",
       "      <th>2</th>\n",
       "      <td>upernavik</td>\n",
       "      <td>72.7868</td>\n",
       "      <td>-56.1549</td>\n",
       "      <td>-24.32</td>\n",
       "      <td>100</td>\n",
       "      <td>99</td>\n",
       "      <td>2.10</td>\n",
       "      <td>GL</td>\n",
       "      <td>1675567240</td>\n",
       "    </tr>\n",
       "    <tr>\n",
       "      <th>3</th>\n",
       "      <td>punta arenas</td>\n",
       "      <td>-53.1500</td>\n",
       "      <td>-70.9167</td>\n",
       "      <td>12.06</td>\n",
       "      <td>66</td>\n",
       "      <td>0</td>\n",
       "      <td>12.35</td>\n",
       "      <td>CL</td>\n",
       "      <td>1675567240</td>\n",
       "    </tr>\n",
       "    <tr>\n",
       "      <th>4</th>\n",
       "      <td>xingcheng</td>\n",
       "      <td>40.6167</td>\n",
       "      <td>120.7167</td>\n",
       "      <td>3.28</td>\n",
       "      <td>42</td>\n",
       "      <td>61</td>\n",
       "      <td>4.54</td>\n",
       "      <td>CN</td>\n",
       "      <td>1675567241</td>\n",
       "    </tr>\n",
       "  </tbody>\n",
       "</table>\n",
       "</div>"
      ],
      "text/plain": [
       "           City      Lat       Lng  Max Temp  Humidity  Cloudiness  \\\n",
       "0     tocopilla -22.0920  -70.1979     23.02        77          29   \n",
       "1     namatanai  -3.6667  152.4333     28.69        72          86   \n",
       "2     upernavik  72.7868  -56.1549    -24.32       100          99   \n",
       "3  punta arenas -53.1500  -70.9167     12.06        66           0   \n",
       "4     xingcheng  40.6167  120.7167      3.28        42          61   \n",
       "\n",
       "   Wind Speed Country        Date  \n",
       "0        0.96      CL  1675567152  \n",
       "1        1.86      PG  1675567240  \n",
       "2        2.10      GL  1675567240  \n",
       "3       12.35      CL  1675567240  \n",
       "4        4.54      CN  1675567241  "
      ]
     },
     "execution_count": 84,
     "metadata": {},
     "output_type": "execute_result"
    }
   ],
   "source": [
    "# Display sample data\n",
    "city_data_df.head()"
   ]
  },
  {
   "cell_type": "code",
   "execution_count": 85,
   "metadata": {},
   "outputs": [],
   "source": [
    "# Export the City_Data into a csv\n",
    "city_data_df.to_csv(\"../output_data/cities.csv\", index_label=\"City_ID\")"
   ]
  },
  {
   "cell_type": "code",
   "execution_count": 86,
   "metadata": {},
   "outputs": [
    {
     "data": {
      "text/html": [
       "<div>\n",
       "<style scoped>\n",
       "    .dataframe tbody tr th:only-of-type {\n",
       "        vertical-align: middle;\n",
       "    }\n",
       "\n",
       "    .dataframe tbody tr th {\n",
       "        vertical-align: top;\n",
       "    }\n",
       "\n",
       "    .dataframe thead th {\n",
       "        text-align: right;\n",
       "    }\n",
       "</style>\n",
       "<table border=\"1\" class=\"dataframe\">\n",
       "  <thead>\n",
       "    <tr style=\"text-align: right;\">\n",
       "      <th></th>\n",
       "      <th>City</th>\n",
       "      <th>Lat</th>\n",
       "      <th>Lng</th>\n",
       "      <th>Max Temp</th>\n",
       "      <th>Humidity</th>\n",
       "      <th>Cloudiness</th>\n",
       "      <th>Wind Speed</th>\n",
       "      <th>Country</th>\n",
       "      <th>Date</th>\n",
       "    </tr>\n",
       "    <tr>\n",
       "      <th>City_ID</th>\n",
       "      <th></th>\n",
       "      <th></th>\n",
       "      <th></th>\n",
       "      <th></th>\n",
       "      <th></th>\n",
       "      <th></th>\n",
       "      <th></th>\n",
       "      <th></th>\n",
       "      <th></th>\n",
       "    </tr>\n",
       "  </thead>\n",
       "  <tbody>\n",
       "    <tr>\n",
       "      <th>0</th>\n",
       "      <td>tocopilla</td>\n",
       "      <td>-22.0920</td>\n",
       "      <td>-70.1979</td>\n",
       "      <td>23.02</td>\n",
       "      <td>77</td>\n",
       "      <td>29</td>\n",
       "      <td>0.96</td>\n",
       "      <td>CL</td>\n",
       "      <td>1675567152</td>\n",
       "    </tr>\n",
       "    <tr>\n",
       "      <th>1</th>\n",
       "      <td>namatanai</td>\n",
       "      <td>-3.6667</td>\n",
       "      <td>152.4333</td>\n",
       "      <td>28.69</td>\n",
       "      <td>72</td>\n",
       "      <td>86</td>\n",
       "      <td>1.86</td>\n",
       "      <td>PG</td>\n",
       "      <td>1675567240</td>\n",
       "    </tr>\n",
       "    <tr>\n",
       "      <th>2</th>\n",
       "      <td>upernavik</td>\n",
       "      <td>72.7868</td>\n",
       "      <td>-56.1549</td>\n",
       "      <td>-24.32</td>\n",
       "      <td>100</td>\n",
       "      <td>99</td>\n",
       "      <td>2.10</td>\n",
       "      <td>GL</td>\n",
       "      <td>1675567240</td>\n",
       "    </tr>\n",
       "    <tr>\n",
       "      <th>3</th>\n",
       "      <td>punta arenas</td>\n",
       "      <td>-53.1500</td>\n",
       "      <td>-70.9167</td>\n",
       "      <td>12.06</td>\n",
       "      <td>66</td>\n",
       "      <td>0</td>\n",
       "      <td>12.35</td>\n",
       "      <td>CL</td>\n",
       "      <td>1675567240</td>\n",
       "    </tr>\n",
       "    <tr>\n",
       "      <th>4</th>\n",
       "      <td>xingcheng</td>\n",
       "      <td>40.6167</td>\n",
       "      <td>120.7167</td>\n",
       "      <td>3.28</td>\n",
       "      <td>42</td>\n",
       "      <td>61</td>\n",
       "      <td>4.54</td>\n",
       "      <td>CN</td>\n",
       "      <td>1675567241</td>\n",
       "    </tr>\n",
       "  </tbody>\n",
       "</table>\n",
       "</div>"
      ],
      "text/plain": [
       "                 City      Lat       Lng  Max Temp  Humidity  Cloudiness  \\\n",
       "City_ID                                                                    \n",
       "0           tocopilla -22.0920  -70.1979     23.02        77          29   \n",
       "1           namatanai  -3.6667  152.4333     28.69        72          86   \n",
       "2           upernavik  72.7868  -56.1549    -24.32       100          99   \n",
       "3        punta arenas -53.1500  -70.9167     12.06        66           0   \n",
       "4           xingcheng  40.6167  120.7167      3.28        42          61   \n",
       "\n",
       "         Wind Speed Country        Date  \n",
       "City_ID                                  \n",
       "0              0.96      CL  1675567152  \n",
       "1              1.86      PG  1675567240  \n",
       "2              2.10      GL  1675567240  \n",
       "3             12.35      CL  1675567240  \n",
       "4              4.54      CN  1675567241  "
      ]
     },
     "execution_count": 86,
     "metadata": {},
     "output_type": "execute_result"
    }
   ],
   "source": [
    "# Read saved data\n",
    "city_data_df = pd.read_csv(\"../output_data/cities.csv\", index_col=\"City_ID\")\n",
    "\n",
    "# Display sample data\n",
    "city_data_df.head()"
   ]
  },
  {
   "cell_type": "markdown",
   "metadata": {},
   "source": [
    "### Create the Scatter Plots Requested\n",
    "\n",
    "#### Latitude Vs. Temperature"
   ]
  },
  {
   "cell_type": "code",
   "execution_count": 87,
   "metadata": {
    "tags": []
   },
   "outputs": [
    {
     "data": {
      "image/png": "[encoded data removed]",
      "text/plain": [
       "<Figure size 432x288 with 1 Axes>"
      ]
     },
     "metadata": {
      "needs_background": "light"
     },
     "output_type": "display_data"
    }
   ],
   "source": [
    "# Build scatter plot for latitude vs. temperature\n",
    "plt.scatter(city_data_df[\"Lat\"], city_data_df[\"Max Temp\"])\n",
    "\n",
    "# Incorporate the other graph properties\n",
    "plt.title(\"City Latitude vs. Max Temperature (2022-10-18)\")\n",
    "plt.xlabel(\"Latitude\")\n",
    "plt.ylabel(\"Max Temperature (C)\")\n",
    "\n",
    "# Save the figure\n",
    "#plt.savefig(\"output_data/Fig1.png\")\n",
    "\n",
    "# Show plot\n",
    "plt.show()"
   ]
  },
  {
   "cell_type": "markdown",
   "metadata": {},
   "source": [
    "#### Latitude Vs. Humidity"
   ]
  },
  {
   "cell_type": "code",
   "execution_count": 88,
   "metadata": {},
   "outputs": [
    {
     "data": {
      "image/png": "[encoded data removed]",
      "text/plain": [
       "<Figure size 432x288 with 1 Axes>"
      ]
     },
     "metadata": {
      "needs_background": "light"
     },
     "output_type": "display_data"
    }
   ],
   "source": [
    "# Build the scatter plots for latitude vs. humidity\n",
    "plt.scatter(city_data_df[\"Lat\"], city_data_df[\"Humidity\"])\n",
    "\n",
    "# Incorporate the other graph properties\n",
    "plt.title(\"City Latitude vs. Humidity (2022-10-18)\")\n",
    "plt.xlabel(\"Latitude\")\n",
    "plt.ylabel(\"Humidity (%)\")\n",
    "\n",
    "# Save the figure\n",
    "#plt.savefig(\"output_data/Fig2.png\")\n",
    "\n",
    "# Show plot\n",
    "plt.show()"
   ]
  },
  {
   "cell_type": "markdown",
   "metadata": {},
   "source": [
    "#### Latitude Vs. Cloudiness"
   ]
  },
  {
   "cell_type": "code",
   "execution_count": 89,
   "metadata": {},
   "outputs": [
    {
     "data": {
      "image/png": "[encoded data removed]",
      "text/plain": [
       "<Figure size 432x288 with 1 Axes>"
      ]
     },
     "metadata": {
      "needs_background": "light"
     },
     "output_type": "display_data"
    }
   ],
   "source": [
    "# Build the scatter plots for latitude vs. cloudiness\n",
    "plt.scatter(city_data_df[\"Lat\"], city_data_df[\"Cloudiness\"])\n",
    "\n",
    "# Incorporate the other graph properties\n",
    "plt.title(\"City Latitude vs. Cloudiness (2022-10-18)\")\n",
    "plt.xlabel(\"Latitude\")\n",
    "plt.ylabel(\"Cloudiness (%)\")\n",
    "\n",
    "# Save the figure\n",
    "#plt.savefig(\"output_data/Fig3.png\")\n",
    "\n",
    "# Show plot\n",
    "plt.show()"
   ]
  },
  {
   "cell_type": "markdown",
   "metadata": {},
   "source": [
    "#### Latitude vs. Wind Speed Plot"
   ]
  },
  {
   "cell_type": "code",
   "execution_count": 90,
   "metadata": {},
   "outputs": [
    {
     "data": {
      "image/png": "[encoded data removed]",
      "text/plain": [
       "<Figure size 432x288 with 1 Axes>"
      ]
     },
     "metadata": {
      "needs_background": "light"
     },
     "output_type": "display_data"
    }
   ],
   "source": [
    "# Build the scatter plots for latitude vs. wind speed\n",
    "plt.scatter(city_data_df[\"Lat\"], city_data_df[\"Wind Speed\"])\n",
    "\n",
    "# Incorporate the other graph properties\n",
    "plt.title(\"City Latitude vs. Wind Speed (2022-10-18)\")\n",
    "plt.xlabel(\"Latitude\")\n",
    "plt.ylabel(\"Wind Speed (m/s)\")\n",
    "\n",
    "# Save the figure\n",
    "#plt.savefig(\"output_data/Fig4.png\")\n",
    "\n",
    "# Show plot\n",
    "plt.show()"
   ]
  },
  {
   "cell_type": "markdown",
   "metadata": {},
   "source": [
    "---\n",
    "\n",
    "## Requirement 2: Compute Linear Regression for Each Relationship\n"
   ]
  },
  {
   "cell_type": "code",
   "execution_count": 162,
   "metadata": {},
   "outputs": [],
   "source": [
    "# Define a function to create Linear Regression plots\n",
    "def lr(x_column, y_column):\n",
    "    x_values = x_column\n",
    "    y_values = y_column\n",
    "    (slope, intercept, rvalue, pvalue, stderr) = linregress(x_values, y_values)\n",
    "    regress_values = x_values * slope + intercept\n",
    "    line_eq = \"y = \" + str(round(slope,2)) + \"x + \" + str(round(intercept,2))\n",
    "    plt.scatter(x_values,y_values)\n",
    "    plt.plot(x_values,regress_values,\"r-\")\n",
    "    left, right = plt.xlim()\n",
    "    #down, up = plt.ylim()\n",
    "    correlation = st.pearsonr(x_values,y_values)\n",
    "    if left < -10:\n",
    "        plt.annotate(line_eq,(-50,12),fontsize=15,color=\"red\")\n",
    "    else:\n",
    "        plt.annotate(line_eq,(45,10),fontsize=15,color=\"red\")\n",
    "    print(f\"The r-value is: {correlation[0]}\")\n"
   ]
  },
  {
   "cell_type": "code",
   "execution_count": 138,
   "metadata": {},
   "outputs": [
    {
     "data": {
      "text/html": [
       "<div>\n",
       "<style scoped>\n",
       "    .dataframe tbody tr th:only-of-type {\n",
       "        vertical-align: middle;\n",
       "    }\n",
       "\n",
       "    .dataframe tbody tr th {\n",
       "        vertical-align: top;\n",
       "    }\n",
       "\n",
       "    .dataframe thead th {\n",
       "        text-align: right;\n",
       "    }\n",
       "</style>\n",
       "<table border=\"1\" class=\"dataframe\">\n",
       "  <thead>\n",
       "    <tr style=\"text-align: right;\">\n",
       "      <th></th>\n",
       "      <th>City</th>\n",
       "      <th>Lat</th>\n",
       "      <th>Lng</th>\n",
       "      <th>Max Temp</th>\n",
       "      <th>Humidity</th>\n",
       "      <th>Cloudiness</th>\n",
       "      <th>Wind Speed</th>\n",
       "      <th>Country</th>\n",
       "      <th>Date</th>\n",
       "    </tr>\n",
       "    <tr>\n",
       "      <th>City_ID</th>\n",
       "      <th></th>\n",
       "      <th></th>\n",
       "      <th></th>\n",
       "      <th></th>\n",
       "      <th></th>\n",
       "      <th></th>\n",
       "      <th></th>\n",
       "      <th></th>\n",
       "      <th></th>\n",
       "    </tr>\n",
       "  </thead>\n",
       "  <tbody>\n",
       "    <tr>\n",
       "      <th>2</th>\n",
       "      <td>upernavik</td>\n",
       "      <td>72.7868</td>\n",
       "      <td>-56.1549</td>\n",
       "      <td>-24.32</td>\n",
       "      <td>100</td>\n",
       "      <td>99</td>\n",
       "      <td>2.10</td>\n",
       "      <td>GL</td>\n",
       "      <td>1675567240</td>\n",
       "    </tr>\n",
       "    <tr>\n",
       "      <th>4</th>\n",
       "      <td>xingcheng</td>\n",
       "      <td>40.6167</td>\n",
       "      <td>120.7167</td>\n",
       "      <td>3.28</td>\n",
       "      <td>42</td>\n",
       "      <td>61</td>\n",
       "      <td>4.54</td>\n",
       "      <td>CN</td>\n",
       "      <td>1675567241</td>\n",
       "    </tr>\n",
       "    <tr>\n",
       "      <th>5</th>\n",
       "      <td>harnosand</td>\n",
       "      <td>62.6323</td>\n",
       "      <td>17.9379</td>\n",
       "      <td>-16.00</td>\n",
       "      <td>83</td>\n",
       "      <td>100</td>\n",
       "      <td>7.65</td>\n",
       "      <td>SE</td>\n",
       "      <td>1675567241</td>\n",
       "    </tr>\n",
       "    <tr>\n",
       "      <th>7</th>\n",
       "      <td>nakamura</td>\n",
       "      <td>32.9833</td>\n",
       "      <td>132.9333</td>\n",
       "      <td>11.51</td>\n",
       "      <td>34</td>\n",
       "      <td>35</td>\n",
       "      <td>1.03</td>\n",
       "      <td>JP</td>\n",
       "      <td>1675567242</td>\n",
       "    </tr>\n",
       "    <tr>\n",
       "      <th>8</th>\n",
       "      <td>kapaa</td>\n",
       "      <td>22.0752</td>\n",
       "      <td>-159.3190</td>\n",
       "      <td>24.18</td>\n",
       "      <td>82</td>\n",
       "      <td>75</td>\n",
       "      <td>8.23</td>\n",
       "      <td>US</td>\n",
       "      <td>1675567242</td>\n",
       "    </tr>\n",
       "  </tbody>\n",
       "</table>\n",
       "</div>"
      ],
      "text/plain": [
       "              City      Lat       Lng  Max Temp  Humidity  Cloudiness  \\\n",
       "City_ID                                                                 \n",
       "2        upernavik  72.7868  -56.1549    -24.32       100          99   \n",
       "4        xingcheng  40.6167  120.7167      3.28        42          61   \n",
       "5        harnosand  62.6323   17.9379    -16.00        83         100   \n",
       "7         nakamura  32.9833  132.9333     11.51        34          35   \n",
       "8            kapaa  22.0752 -159.3190     24.18        82          75   \n",
       "\n",
       "         Wind Speed Country        Date  \n",
       "City_ID                                  \n",
       "2              2.10      GL  1675567240  \n",
       "4              4.54      CN  1675567241  \n",
       "5              7.65      SE  1675567241  \n",
       "7              1.03      JP  1675567242  \n",
       "8              8.23      US  1675567242  "
      ]
     },
     "execution_count": 138,
     "metadata": {},
     "output_type": "execute_result"
    }
   ],
   "source": [
    "# Create a DataFrame with the Northern Hemisphere data (Latitude >= 0)\n",
    "northern_hemi_df = city_data_df[city_data_df[\"Lat\"] >= 0]\n",
    "\n",
    "# Display sample data\n",
    "northern_hemi_df.head()"
   ]
  },
  {
   "cell_type": "code",
   "execution_count": 93,
   "metadata": {},
   "outputs": [
    {
     "data": {
      "text/html": [
       "<div>\n",
       "<style scoped>\n",
       "    .dataframe tbody tr th:only-of-type {\n",
       "        vertical-align: middle;\n",
       "    }\n",
       "\n",
       "    .dataframe tbody tr th {\n",
       "        vertical-align: top;\n",
       "    }\n",
       "\n",
       "    .dataframe thead th {\n",
       "        text-align: right;\n",
       "    }\n",
       "</style>\n",
       "<table border=\"1\" class=\"dataframe\">\n",
       "  <thead>\n",
       "    <tr style=\"text-align: right;\">\n",
       "      <th></th>\n",
       "      <th>City</th>\n",
       "      <th>Lat</th>\n",
       "      <th>Lng</th>\n",
       "      <th>Max Temp</th>\n",
       "      <th>Humidity</th>\n",
       "      <th>Cloudiness</th>\n",
       "      <th>Wind Speed</th>\n",
       "      <th>Country</th>\n",
       "      <th>Date</th>\n",
       "    </tr>\n",
       "    <tr>\n",
       "      <th>City_ID</th>\n",
       "      <th></th>\n",
       "      <th></th>\n",
       "      <th></th>\n",
       "      <th></th>\n",
       "      <th></th>\n",
       "      <th></th>\n",
       "      <th></th>\n",
       "      <th></th>\n",
       "      <th></th>\n",
       "    </tr>\n",
       "  </thead>\n",
       "  <tbody>\n",
       "    <tr>\n",
       "      <th>0</th>\n",
       "      <td>tocopilla</td>\n",
       "      <td>-22.0920</td>\n",
       "      <td>-70.1979</td>\n",
       "      <td>23.02</td>\n",
       "      <td>77</td>\n",
       "      <td>29</td>\n",
       "      <td>0.96</td>\n",
       "      <td>CL</td>\n",
       "      <td>1675567152</td>\n",
       "    </tr>\n",
       "    <tr>\n",
       "      <th>1</th>\n",
       "      <td>namatanai</td>\n",
       "      <td>-3.6667</td>\n",
       "      <td>152.4333</td>\n",
       "      <td>28.69</td>\n",
       "      <td>72</td>\n",
       "      <td>86</td>\n",
       "      <td>1.86</td>\n",
       "      <td>PG</td>\n",
       "      <td>1675567240</td>\n",
       "    </tr>\n",
       "    <tr>\n",
       "      <th>3</th>\n",
       "      <td>punta arenas</td>\n",
       "      <td>-53.1500</td>\n",
       "      <td>-70.9167</td>\n",
       "      <td>12.06</td>\n",
       "      <td>66</td>\n",
       "      <td>0</td>\n",
       "      <td>12.35</td>\n",
       "      <td>CL</td>\n",
       "      <td>1675567240</td>\n",
       "    </tr>\n",
       "    <tr>\n",
       "      <th>6</th>\n",
       "      <td>hlotse</td>\n",
       "      <td>-28.8718</td>\n",
       "      <td>28.0450</td>\n",
       "      <td>13.71</td>\n",
       "      <td>84</td>\n",
       "      <td>67</td>\n",
       "      <td>0.29</td>\n",
       "      <td>LS</td>\n",
       "      <td>1675567241</td>\n",
       "    </tr>\n",
       "    <tr>\n",
       "      <th>10</th>\n",
       "      <td>puerto ayora</td>\n",
       "      <td>-0.7393</td>\n",
       "      <td>-90.3518</td>\n",
       "      <td>24.75</td>\n",
       "      <td>98</td>\n",
       "      <td>80</td>\n",
       "      <td>0.89</td>\n",
       "      <td>EC</td>\n",
       "      <td>1675567078</td>\n",
       "    </tr>\n",
       "  </tbody>\n",
       "</table>\n",
       "</div>"
      ],
      "text/plain": [
       "                 City      Lat       Lng  Max Temp  Humidity  Cloudiness  \\\n",
       "City_ID                                                                    \n",
       "0           tocopilla -22.0920  -70.1979     23.02        77          29   \n",
       "1           namatanai  -3.6667  152.4333     28.69        72          86   \n",
       "3        punta arenas -53.1500  -70.9167     12.06        66           0   \n",
       "6              hlotse -28.8718   28.0450     13.71        84          67   \n",
       "10       puerto ayora  -0.7393  -90.3518     24.75        98          80   \n",
       "\n",
       "         Wind Speed Country        Date  \n",
       "City_ID                                  \n",
       "0              0.96      CL  1675567152  \n",
       "1              1.86      PG  1675567240  \n",
       "3             12.35      CL  1675567240  \n",
       "6              0.29      LS  1675567241  \n",
       "10             0.89      EC  1675567078  "
      ]
     },
     "execution_count": 93,
     "metadata": {},
     "output_type": "execute_result"
    }
   ],
   "source": [
    "# Create a DataFrame with the Southern Hemisphere data (Latitude < 0)\n",
    "southern_hemi_df = city_data_df[city_data_df[\"Lat\"] < 0]\n",
    "\n",
    "# Display sample data\n",
    "southern_hemi_df.head()"
   ]
  },
  {
   "cell_type": "markdown",
   "metadata": {},
   "source": [
    "###  Temperature vs. Latitude Linear Regression Plot"
   ]
  },
  {
   "cell_type": "code",
   "execution_count": 166,
   "metadata": {},
   "outputs": [
    {
     "name": "stdout",
     "output_type": "stream",
     "text": [
      "The r-value is: -0.8728435676768691\n"
     ]
    },
    {
     "data": {
      "text/plain": [
       "Text(0, 0.5, 'Maximum Temperature (C)')"
      ]
     },
     "execution_count": 166,
     "metadata": {},
     "output_type": "execute_result"
    },
    {
     "data": {
      "image/png": "[encoded data removed]",
      "text/plain": [
       "<Figure size 432x288 with 1 Axes>"
      ]
     },
     "metadata": {
      "needs_background": "light"
     },
     "output_type": "display_data"
    }
   ],
   "source": [
    "# Linear regression on Northern Hemisphere\n",
    "lr(northern_hemi_df[\"Lat\"], northern_hemi_df[\"Max Temp\"])\n",
    "plt.xlabel('Latitude')\n",
    "plt.ylabel('Maximum Temperature (C)')"
   ]
  },
  {
   "cell_type": "code",
   "execution_count": 167,
   "metadata": {},
   "outputs": [
    {
     "name": "stdout",
     "output_type": "stream",
     "text": [
      "The r-value is: 0.41581485692581205\n"
     ]
    },
    {
     "data": {
      "text/plain": [
       "Text(0, 0.5, 'Maximum Temperature (C)')"
      ]
     },
     "execution_count": 167,
     "metadata": {},
     "output_type": "execute_result"
    },
    {
     "data": {
      "image/png": "[encoded data removed]",
      "text/plain": [
       "<Figure size 432x288 with 1 Axes>"
      ]
     },
     "metadata": {
      "needs_background": "light"
     },
     "output_type": "display_data"
    }
   ],
   "source": [
    "# Linear regression on Southern Hemisphere\n",
    "lr(southern_hemi_df[\"Lat\"], southern_hemi_df[\"Max Temp\"])\n",
    "plt.xlabel('Latitude')\n",
    "plt.ylabel('Maximum Temperature (C)')"
   ]
  },
  {
   "cell_type": "markdown",
   "metadata": {},
   "source": [
    "**Discussion about the linear relationship:** \n",
    "(Throughout this analysis, when I mention \"increase in latititude in the Southern hemisphere\", I'm referring to the latitudes going from -50 to 0 degrees and not the opposite).\n",
    "\n",
    "For the Northern Hemisphere, there is a negative relationship between Latitude and Maximum temperature (C) because as latitude increases, temperature seems to decrease. Geographically, high latitude regions in the Northern Hemisphere comprise of the Arctic Circle and hence this relationship makes sense - as one approaches areas of higher latitudes (northern regions of the Northern Hemisphere), the temperature begins to drop. The r-value for this correlation is -0.87 where the minus sign signifies the negative relationship between the two variables and the value suggests as a strong correlation. In regards to the regression equation, the slope can be interpreted as the drop of temperature for each degree increase in latitude which means that for every one degree increase in temperature, the temperature is predicted to drop by -0.76 C.\n",
    "In contrast, for the Southern Hemisphere, there is a positive relationship between Latitude and Maximum temperature (C) since as latitude increases so does the temperature. The values on the x-axis indicate moving towards the equator accompanied by an increase in temperature. This makes sense as the equatorial region are directly hit by sunlight and translates to higher temperatures. Furthermore, the r-values of 0.42 explains a moderate correlation between the two variables in the positive direction. The regression equation highlights that with every one degree increase in the latitude in the Southern Hemisphere, there is a predicted 0.15 C increase in temperature."
   ]
  },
  {
   "cell_type": "markdown",
   "metadata": {},
   "source": [
    "### Humidity vs. Latitude Linear Regression Plot"
   ]
  },
  {
   "cell_type": "code",
   "execution_count": 168,
   "metadata": {},
   "outputs": [
    {
     "name": "stdout",
     "output_type": "stream",
     "text": [
      "The r-value is: 0.4195384317384133\n"
     ]
    },
    {
     "data": {
      "text/plain": [
       "Text(0, 0.5, 'Humidity (%)')"
      ]
     },
     "execution_count": 168,
     "metadata": {},
     "output_type": "execute_result"
    },
    {
     "data": {
      "image/png": "[encoded data removed]",
      "text/plain": [
       "<Figure size 432x288 with 1 Axes>"
      ]
     },
     "metadata": {
      "needs_background": "light"
     },
     "output_type": "display_data"
    }
   ],
   "source": [
    "# Northern Hemisphere\n",
    "lr(northern_hemi_df[\"Lat\"], northern_hemi_df[\"Humidity\"])\n",
    "plt.xlabel('Latitude')\n",
    "plt.ylabel('Humidity (%)')"
   ]
  },
  {
   "cell_type": "code",
   "execution_count": 169,
   "metadata": {},
   "outputs": [
    {
     "name": "stdout",
     "output_type": "stream",
     "text": [
      "The r-value is: 0.32847790521967624\n"
     ]
    },
    {
     "data": {
      "text/plain": [
       "Text(0, 0.5, 'Humidity (%)')"
      ]
     },
     "execution_count": 169,
     "metadata": {},
     "output_type": "execute_result"
    },
    {
     "data": {
      "image/png": "[encoded data removed]",
      "text/plain": [
       "<Figure size 432x288 with 1 Axes>"
      ]
     },
     "metadata": {
      "needs_background": "light"
     },
     "output_type": "display_data"
    }
   ],
   "source": [
    "# Southern Hemisphere\n",
    "lr(southern_hemi_df[\"Lat\"], southern_hemi_df[\"Humidity\"])\n",
    "plt.xlabel('Latitude')\n",
    "plt.ylabel('Humidity (%)')"
   ]
  },
  {
   "cell_type": "markdown",
   "metadata": {},
   "source": [
    "**Discussion about the linear relationship:** For both Northern and Southern Hemisphere, there seems to be an increase in humidity as there is an increase in latitude. There is a positive relationship between the two variables in both hemispheres as can be seen from the upward slopes and r-value, however this relationship is stronger in the Northern Hemisphere, with an r-value of 0.42 as compared to the Southern Hemisphere for which the r-value is 0.33. But the slope for both regressions equations is quite similar, indicating that with an increase of one degree latitude in the Northern as well as Southern hemisphere, there is an increase in humidity by 0.4%.  \n",
    "\n",
    "Attempting to think critically about the range of latitude values, it is quite likely that not all latitudes 0 to ±90 degrees have been accounted for in this analysis since it might not have been possible to collect data from latitudes below -55 degrees for example. Hence, this dataset might not be completely representative of the actual values. "
   ]
  },
  {
   "cell_type": "markdown",
   "metadata": {},
   "source": [
    "### Cloudiness vs. Latitude Linear Regression Plot"
   ]
  },
  {
   "cell_type": "code",
   "execution_count": 170,
   "metadata": {},
   "outputs": [
    {
     "name": "stdout",
     "output_type": "stream",
     "text": [
      "The r-value is: 0.25809660036928456\n"
     ]
    },
    {
     "data": {
      "text/plain": [
       "Text(0, 0.5, 'Cloudiness (%)')"
      ]
     },
     "execution_count": 170,
     "metadata": {},
     "output_type": "execute_result"
    },
    {
     "data": {
      "image/png": "[encoded data removed]",
      "text/plain": [
       "<Figure size 432x288 with 1 Axes>"
      ]
     },
     "metadata": {
      "needs_background": "light"
     },
     "output_type": "display_data"
    }
   ],
   "source": [
    "# Northern Hemisphere\n",
    "lr(northern_hemi_df[\"Lat\"], northern_hemi_df[\"Cloudiness\"])\n",
    "plt.xlabel('Latitude')\n",
    "plt.ylabel('Cloudiness (%)')"
   ]
  },
  {
   "cell_type": "code",
   "execution_count": 171,
   "metadata": {},
   "outputs": [
    {
     "name": "stdout",
     "output_type": "stream",
     "text": [
      "The r-value is: 0.3228158615128501\n"
     ]
    },
    {
     "data": {
      "text/plain": [
       "Text(0, 0.5, 'Cloudiness (%)')"
      ]
     },
     "execution_count": 171,
     "metadata": {},
     "output_type": "execute_result"
    },
    {
     "data": {
      "image/png": "[encoded data removed]",
      "text/plain": [
       "<Figure size 432x288 with 1 Axes>"
      ]
     },
     "metadata": {
      "needs_background": "light"
     },
     "output_type": "display_data"
    }
   ],
   "source": [
    "# Southern Hemisphere\n",
    "lr(southern_hemi_df[\"Lat\"], southern_hemi_df[\"Cloudiness\"])\n",
    "plt.xlabel('Latitude')\n",
    "plt.ylabel('Cloudiness (%)')"
   ]
  },
  {
   "cell_type": "markdown",
   "metadata": {},
   "source": [
    "**Discussion about the linear relationship:** Similar to humidity, there is a positive relationship between latitude and percentage of cloudiness. There is a positive, low-moderate relationship between the two variables in both hemispheres as can be seen from the upward slopes and r-value, however this relationship is stronger in the Southern Hemisphere, with an r-value of 0.32 as compared to the Northern Hemisphere for which the r-value is 0.25. The slope for both regressions equations is also different. While the northern hemisphere has a slope of 0.51, the southern hemisphere has a slightly steeper slope of 0.94 indicating that with an increase of one degree latitude in the Northern hemisphere, there is an increase in cloudiness by 0.5% and in the Southern hemisphere, there will be an increase in cloudiness of 0.9 %. "
   ]
  },
  {
   "cell_type": "markdown",
   "metadata": {},
   "source": [
    "### Wind Speed vs. Latitude Linear Regression Plot"
   ]
  },
  {
   "cell_type": "code",
   "execution_count": 172,
   "metadata": {},
   "outputs": [
    {
     "name": "stdout",
     "output_type": "stream",
     "text": [
      "The r-value is: 0.12133964798817468\n"
     ]
    },
    {
     "data": {
      "text/plain": [
       "Text(0, 0.5, 'Wind Speed (m/s)')"
      ]
     },
     "execution_count": 172,
     "metadata": {},
     "output_type": "execute_result"
    },
    {
     "data": {
      "image/png": "[encoded data removed]",
      "text/plain": [
       "<Figure size 432x288 with 1 Axes>"
      ]
     },
     "metadata": {
      "needs_background": "light"
     },
     "output_type": "display_data"
    }
   ],
   "source": [
    "# Northern Hemisphere\n",
    "lr(northern_hemi_df[\"Lat\"], northern_hemi_df[\"Wind Speed\"])\n",
    "plt.xlabel('Latitude')\n",
    "plt.ylabel('Wind Speed (m/s)')"
   ]
  },
  {
   "cell_type": "code",
   "execution_count": 173,
   "metadata": {},
   "outputs": [
    {
     "name": "stdout",
     "output_type": "stream",
     "text": [
      "The r-value is: -0.22679137235953778\n"
     ]
    },
    {
     "data": {
      "text/plain": [
       "Text(0, 0.5, 'Wind Speed (m/s)')"
      ]
     },
     "execution_count": 173,
     "metadata": {},
     "output_type": "execute_result"
    },
    {
     "data": {
      "image/png": "[encoded data removed]",
      "text/plain": [
       "<Figure size 432x288 with 1 Axes>"
      ]
     },
     "metadata": {
      "needs_background": "light"
     },
     "output_type": "display_data"
    }
   ],
   "source": [
    "# Southern Hemisphere\n",
    "lr(southern_hemi_df[\"Lat\"], southern_hemi_df[\"Wind Speed\"])\n",
    "plt.xlabel('Latitude')\n",
    "plt.ylabel('Wind Speed (m/s)')"
   ]
  },
  {
   "cell_type": "markdown",
   "metadata": {},
   "source": [
    "**Discussion about the linear relationship:** There is a pretty weak correlation between latitude and wind speed in both hemispheres. In the Northern hemisphere, there is a positive relationship between the two variables, indicating the higher latitudes may predict higher wind speeds whereas in the Southern Hemisphere, there is a negative relationship between the variables, suggesting that higher latitudes here may predict lower wind speeds. However, both graphs essentially seem to suggest that the wind speed is higher away from the equator. The r-value for the correlation between wind speed and latitude in the Northern hemisphere is 0.12 and the r-value for the correlation between wind speed and latitude in the Southern hemisphere is -0.23 - both are weak associations. Lastly, the slopes for both regression equations are 0.02 and -0.04 respectively indicating that as the latitude increases by one degree, there is an increase in wind speed by 0.02 m/s in the northern hemisphere, towards the pole and in the southern hemisphere, there is a decrease in wind speed by -0.04 m/s towards the equator."
   ]
  },
  {
   "cell_type": "code",
   "execution_count": null,
   "metadata": {},
   "outputs": [],
   "source": []
  }
 ],
 "metadata": {
  "anaconda-cloud": {},
  "kernel_info": {
   "name": "python3"
  },
  "kernelspec": {
   "display_name": "PythonData",
   "language": "python",
   "name": "pythondata"
  },
  "language_info": {
   "codemirror_mode": {
    "name": "ipython",
    "version": 3
   },
   "file_extension": ".py",
   "mimetype": "text/x-python",
   "name": "python",
   "nbconvert_exporter": "python",
   "pygments_lexer": "ipython3",
   "version": "3.7.7"
  },
  "latex_envs": {
   "LaTeX_envs_menu_present": true,
   "autoclose": false,
   "autocomplete": true,
   "bibliofile": "biblio.bib",
   "cite_by": "apalike",
   "current_citInitial": 1,
   "eqLabelWithNumbers": true,
   "eqNumInitial": 1,
   "hotkeys": {
    "equation": "Ctrl-E",
    "itemize": "Ctrl-I"
   },
   "labels_anchors": false,
   "latex_user_defs": false,
   "report_style_numbering": false,
   "user_envs_cfg": false
  },
  "nteract": {
   "version": "0.12.3"
  }
 },
 "nbformat": 4,
 "nbformat_minor": 4
}
